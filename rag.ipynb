{
 "cells": [
  {
   "cell_type": "code",
   "execution_count": 16,
   "id": "775479c5",
   "metadata": {},
   "outputs": [
    {
     "data": {
      "text/plain": [
       "True"
      ]
     },
     "execution_count": 16,
     "metadata": {},
     "output_type": "execute_result"
    }
   ],
   "source": [
    "import chromadb\n",
    "import chromadb.utils.embedding_functions as embedding_functions\n",
    "from agno.knowledge.embedder.cohere import CohereEmbedder\n",
    "import os\n",
    "import dotenv\n",
    "dotenv.load_dotenv()"
   ]
  },
  {
   "cell_type": "code",
   "execution_count": 17,
   "id": "1df58bee",
   "metadata": {},
   "outputs": [],
   "source": [
    "# cohere setup\n",
    "cohere_ef = embedding_functions.CohereEmbeddingFunction(\n",
    "    api_key=os.getenv('COHERE_API_KEY'),\n",
    "    model_name=\"embed-v4.0\"\n",
    "    )"
   ]
  },
  {
   "cell_type": "code",
   "execution_count": 18,
   "id": "e53272b7",
   "metadata": {},
   "outputs": [],
   "source": [
    "# chromba client\n",
    "\n",
    "client = chromadb.CloudClient(\n",
    "  api_key = \"ck-5h8C36CwzBp81NwGoNjvZkNyrzEmjQcg5kkfPZVoQ8Pu\",\n",
    "  tenant = 'de163e20-bb6f-4dc9-a7e8-51eab137d1ca',\n",
    "  database = 'agno'\n",
    ")"
   ]
  },
  {
   "cell_type": "code",
   "execution_count": 13,
   "id": "06086c2b",
   "metadata": {},
   "outputs": [],
   "source": [
    "## create new collection\n",
    "collection = client.create_collection(\n",
    "    name=\"example_collection\",\n",
    "    embedding_function = cohere_ef,\n",
    "    )"
   ]
  },
  {
   "cell_type": "code",
   "execution_count": 19,
   "id": "0cabfcbb",
   "metadata": {},
   "outputs": [],
   "source": [
    "## delete collection\n",
    "\n",
    "client.delete_collection(name=\"example_collection\")"
   ]
  },
  {
   "cell_type": "code",
   "execution_count": 14,
   "id": "cf86876c",
   "metadata": {},
   "outputs": [],
   "source": [
    "## add data to collection\n",
    "collection.add(\n",
    "    ids=['id1'],\n",
    "    documents=['documents/how-to-write-short-story.md'],\n",
    "    metadatas=[{\"summary\": \"guide on how to write short story\"}]\n",
    ")"
   ]
  },
  {
   "cell_type": "code",
   "execution_count": 11,
   "id": "11428922",
   "metadata": {},
   "outputs": [
    {
     "data": {
      "text/plain": [
       "[array([-0.02206363, -0.01271647,  0.00478226, ..., -0.00415731,\n",
       "         0.00021313, -0.04217087], shape=(1536,), dtype=float32)]"
      ]
     },
     "execution_count": 11,
     "metadata": {},
     "output_type": "execute_result"
    }
   ],
   "source": [
    "## input document\n",
    "\n",
    "cohere_ef(\n",
    "    input=['documents/how-to-write-short-story.md']\n",
    ")"
   ]
  }
 ],
 "metadata": {
  "kernelspec": {
   "display_name": "Python 3",
   "language": "python",
   "name": "python3"
  },
  "language_info": {
   "codemirror_mode": {
    "name": "ipython",
    "version": 3
   },
   "file_extension": ".py",
   "mimetype": "text/x-python",
   "name": "python",
   "nbconvert_exporter": "python",
   "pygments_lexer": "ipython3",
   "version": "3.13.3"
  }
 },
 "nbformat": 4,
 "nbformat_minor": 5
}
