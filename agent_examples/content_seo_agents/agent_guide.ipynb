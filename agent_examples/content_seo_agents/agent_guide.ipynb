{
 "cells": [
  {
   "cell_type": "markdown",
   "id": "32e7f4e0",
   "metadata": {},
   "source": [
    "# Explaining Agno Agent Parameters"
   ]
  },
  {
   "cell_type": "code",
   "execution_count": null,
   "id": "3a5c7e8d",
   "metadata": {},
   "outputs": [],
   "source": [
    "from agno.agent import Agent"
   ]
  },
  {
   "cell_type": "markdown",
   "id": "e42c744a",
   "metadata": {},
   "source": [
    "## 1 - Name and Role"
   ]
  },
  {
   "cell_type": "code",
   "execution_count": null,
   "id": "f9aaafdb",
   "metadata": {},
   "outputs": [],
   "source": [
    "okrs_agent = Agent(\n",
    "    name = \"OKRs expert agent\",\n",
    "    role = \"Answer a user's questions about management by Objectives and Key Results (OKRs)\"\n",
    ")"
   ]
  },
  {
   "cell_type": "markdown",
   "id": "7df5dc00",
   "metadata": {},
   "source": [
    "The agent's name and role will be important, especially when you have a team of agents that interact with one another.\n",
    "\n",
    "Name and role will help guide the collaborating and team leader agents to utilize one another."
   ]
  },
  {
   "cell_type": "markdown",
   "id": "0d8a5d30",
   "metadata": {},
   "source": [
    "# 2 - Model"
   ]
  },
  {
   "cell_type": "code",
   "execution_count": 2,
   "id": "b7d055f3",
   "metadata": {},
   "outputs": [],
   "source": [
    "from agno.models.anthropic import Claude"
   ]
  },
  {
   "cell_type": "code",
   "execution_count": null,
   "id": "60debd6c",
   "metadata": {},
   "outputs": [],
   "source": [
    "okrs_agent = Agent(\n",
    "    model = Claude(\n",
    "        id = \"claude-sonnet-4-5\",\n",
    "        api_key=\"\",\n",
    "    ),\n",
    "\n",
    "    name = \"OKRs expert agent\",\n",
    "    role = \"Answer a user's questions about management by Objectives and Key Results (OKRs)\"\n",
    ")"
   ]
  }
 ],
 "metadata": {
  "kernelspec": {
   "display_name": "Python 3",
   "language": "python",
   "name": "python3"
  },
  "language_info": {
   "codemirror_mode": {
    "name": "ipython",
    "version": 3
   },
   "file_extension": ".py",
   "mimetype": "text/x-python",
   "name": "python",
   "nbconvert_exporter": "python",
   "pygments_lexer": "ipython3",
   "version": "3.13.3"
  }
 },
 "nbformat": 4,
 "nbformat_minor": 5
}
