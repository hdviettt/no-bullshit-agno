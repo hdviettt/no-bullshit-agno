{
 "cells": [
  {
   "cell_type": "markdown",
   "id": "58968833",
   "metadata": {},
   "source": [
    "# 1. IMPORT & SETUP"
   ]
  },
  {
   "cell_type": "code",
   "execution_count": 2,
   "id": "52ad40e7",
   "metadata": {},
   "outputs": [
    {
     "data": {
      "text/plain": [
       "True"
      ]
     },
     "execution_count": 2,
     "metadata": {},
     "output_type": "execute_result"
    }
   ],
   "source": [
    "# agent & model\n",
    "from agno.agent import Agent\n",
    "from agno.models.anthropic import Claude\n",
    "import asyncio\n",
    "\n",
    "# tools\n",
    "from agno.tools import tool\n",
    "from agno.tools.github import GithubTools\n",
    "\n",
    "# mcp\n",
    "from agno.tools.mcp import MCPTools\n",
    "from agno.tools.mcp import MultiMCPTools\n",
    "\n",
    "# memory management in sqlite\n",
    "from agno.db.sqlite import SqliteDb\n",
    "\n",
    "# env to load secrets\n",
    "import os\n",
    "import dotenv\n",
    "dotenv.load_dotenv()"
   ]
  },
  {
   "cell_type": "markdown",
   "id": "9942be1e",
   "metadata": {},
   "source": [
    "# 2. BASIC AGENT"
   ]
  },
  {
   "cell_type": "code",
   "execution_count": 3,
   "id": "03f4b89b",
   "metadata": {},
   "outputs": [],
   "source": [
    "# setting up the agent with configs\n",
    "basic_agent = Agent(\n",
    "    model = Claude(id=\"claude-sonnet-4-5\"), ## model\n",
    "    instructions=\"You are a helpful assistant\", ## system prompt\n",
    "    markdown = True, ## respond in markdown\n",
    "    stream = True, ## allow model to stream responses as it goes\n",
    ")"
   ]
  },
  {
   "cell_type": "code",
   "execution_count": 4,
   "id": "01b590ce",
   "metadata": {},
   "outputs": [
    {
     "data": {
      "application/vnd.jupyter.widget-view+json": {
       "model_id": "baa79d2861ba40c3be544109de5d535d",
       "version_major": 2,
       "version_minor": 0
      },
      "text/plain": [
       "Output()"
      ]
     },
     "metadata": {},
     "output_type": "display_data"
    },
    {
     "data": {
      "text/html": [
       "<pre style=\"white-space:pre;overflow-x:auto;line-height:normal;font-family:Menlo,'DejaVu Sans Mono',consolas,'Courier New',monospace\"></pre>\n"
      ],
      "text/plain": []
     },
     "metadata": {},
     "output_type": "display_data"
    }
   ],
   "source": [
    "# call the agent\n",
    "basic_agent.print_response(\n",
    "    input(), \n",
    "    stream=True\n",
    ")"
   ]
  },
  {
   "cell_type": "markdown",
   "id": "24dcc642",
   "metadata": {},
   "source": [
    "# 3. AGENT WITH TOOL CALL"
   ]
  },
  {
   "cell_type": "markdown",
   "id": "ddeff774",
   "metadata": {},
   "source": [
    "## 3.1. Hard-coded tool"
   ]
  },
  {
   "cell_type": "code",
   "execution_count": 5,
   "id": "dd0d98ab",
   "metadata": {},
   "outputs": [],
   "source": [
    "from agno.tools import tool"
   ]
  },
  {
   "cell_type": "markdown",
   "id": "f3a8068c",
   "metadata": {},
   "source": [
    "let's create a tool to return power minus one of two integers:\n",
    "\n",
    "power_one(x, y)\n",
    "\n",
    "result = x*y - 1"
   ]
  },
  {
   "cell_type": "code",
   "execution_count": 16,
   "id": "f7b0c85b",
   "metadata": {},
   "outputs": [
    {
     "data": {
      "text/plain": [
       "80"
      ]
     },
     "execution_count": 16,
     "metadata": {},
     "output_type": "execute_result"
    }
   ],
   "source": [
    "# @tool\n",
    "def power_one(x: int, y: int) -> int:\n",
    "    \"\"\"Returns power minus one of two integers.\"\"\"\n",
    "    return x**y - 1\n",
    "\n",
    "# let's test it\n",
    "\n",
    "power_one(3, 4) # should return 3*4 - 1 = 81 - 1 = 80"
   ]
  },
  {
   "cell_type": "markdown",
   "id": "9c397cf0",
   "metadata": {},
   "source": [
    "Now, in order to turn it into a tool for agent, a \"@tool\" must be added to the top"
   ]
  },
  {
   "cell_type": "code",
   "execution_count": 17,
   "id": "137e018c",
   "metadata": {},
   "outputs": [],
   "source": [
    "@tool\n",
    "def power_one(x: int, y: int) -> int:\n",
    "    \"\"\"Returns x to the power of y minus one.\"\"\"\n",
    "    return x**y - 1"
   ]
  },
  {
   "cell_type": "markdown",
   "id": "7c6b6659",
   "metadata": {},
   "source": [
    "Now we can add this tool to our agent"
   ]
  },
  {
   "cell_type": "code",
   "execution_count": 18,
   "id": "22ccbc11",
   "metadata": {},
   "outputs": [],
   "source": [
    "tool_agent = Agent(\n",
    "    model = Claude(id=\"claude-sonnet-4-5\"), ## model\n",
    "    instructions=\"You are a helpful assistant\", ## system prompt\n",
    "    markdown = True, ## respond in markdown\n",
    "    stream = True, ## allow model to stream responses as it goes\n",
    "    tools = [power_one] ## add the tool here\n",
    ")"
   ]
  },
  {
   "cell_type": "code",
   "execution_count": 19,
   "id": "18c02cfe",
   "metadata": {},
   "outputs": [
    {
     "data": {
      "application/vnd.jupyter.widget-view+json": {
       "model_id": "936a2109b5544e959fd47f64e78266d6",
       "version_major": 2,
       "version_minor": 0
      },
      "text/plain": [
       "Output()"
      ]
     },
     "metadata": {},
     "output_type": "display_data"
    },
    {
     "data": {
      "text/html": [
       "<pre style=\"white-space:pre;overflow-x:auto;line-height:normal;font-family:Menlo,'DejaVu Sans Mono',consolas,'Courier New',monospace\"></pre>\n"
      ],
      "text/plain": []
     },
     "metadata": {},
     "output_type": "display_data"
    }
   ],
   "source": [
    "# let's call the agent\n",
    "\n",
    "tool_agent.print_response(\n",
    "    input(),\n",
    "    stream=True\n",
    ")"
   ]
  },
  {
   "cell_type": "markdown",
   "id": "f19746cc",
   "metadata": {},
   "source": [
    "## 3.2. Agno available ToolKit"
   ]
  },
  {
   "cell_type": "markdown",
   "id": "fec5d52f",
   "metadata": {},
   "source": [
    "First, we need to import the tools package. You can find all of them here: https://docs.agno.com/concepts/tools/toolkits/toolkits\n",
    "\n",
    "Let's use the Github tool from Agno. You'd need to go to Github -> Settings -> Developer Settings -> Personal Access Tokens -> Generate New Token.\n"
   ]
  },
  {
   "cell_type": "markdown",
   "id": "40cda034",
   "metadata": {},
   "source": "Generate a GitHub Personal Access Token:\n1. Go to Github → Settings → Developer Settings → Personal Access Tokens → Generate New Token\n2. Copy the token to your .env file as `GITHUB_ACCESS_TOKEN=\"your_token_here\"`"
  },
  {
   "cell_type": "markdown",
   "id": "ebbe33a6",
   "metadata": {},
   "source": [
    "Run this:\n",
    "```Python\n",
    "pip install -U PyGithub\n",
    "```"
   ]
  },
  {
   "cell_type": "code",
   "execution_count": 20,
   "id": "41eda587",
   "metadata": {},
   "outputs": [
    {
     "data": {
      "text/plain": [
       "True"
      ]
     },
     "execution_count": 20,
     "metadata": {},
     "output_type": "execute_result"
    }
   ],
   "source": [
    "import dotenv\n",
    "dotenv.load_dotenv()"
   ]
  },
  {
   "cell_type": "code",
   "execution_count": 22,
   "id": "f7271c6d",
   "metadata": {},
   "outputs": [],
   "source": [
    "# import Github tool\n",
    "\n",
    "from agno.tools.github import GithubTools"
   ]
  },
  {
   "cell_type": "code",
   "execution_count": 25,
   "id": "3464913a",
   "metadata": {},
   "outputs": [],
   "source": [
    "# just add tool to our agent, it will handle auth with env automatically\n",
    "\n",
    "github_agent = Agent(\n",
    "    model=Claude(id=\"claude-sonnet-4-5\"), ## model\n",
    "    instructions=\"You are a helpful assistant who can fetch information about a user's Github.\", ## system prompt\n",
    "    markdown=True, ## respond in markdown\n",
    "    stream=True, ## allow model to stream responses as it goes\n",
    "    tools=[GithubTools()] ## add the tool here\n",
    ")"
   ]
  },
  {
   "cell_type": "code",
   "execution_count": 26,
   "id": "847f2aa1",
   "metadata": {},
   "outputs": [
    {
     "data": {
      "application/vnd.jupyter.widget-view+json": {
       "model_id": "9b7a0f3396004b188f61e22407b1fa9d",
       "version_major": 2,
       "version_minor": 0
      },
      "text/plain": [
       "Output()"
      ]
     },
     "metadata": {},
     "output_type": "display_data"
    },
    {
     "data": {
      "text/html": [
       "<pre style=\"white-space:pre;overflow-x:auto;line-height:normal;font-family:Menlo,'DejaVu Sans Mono',consolas,'Courier New',monospace\"></pre>\n"
      ],
      "text/plain": []
     },
     "metadata": {},
     "output_type": "display_data"
    }
   ],
   "source": [
    "prompt = \"What are my personal repositories on Github? Can you tell from those what I do?\"\n",
    "\n",
    "github_agent.print_response(\n",
    "    prompt,\n",
    "    stream=True\n",
    ")"
   ]
  },
  {
   "cell_type": "markdown",
   "id": "756b5dc3",
   "metadata": {},
   "source": [
    "## 3.3. MCP Servers"
   ]
  },
  {
   "cell_type": "markdown",
   "id": "ce7920cd",
   "metadata": {},
   "source": [
    "Let's test with 2 types of MCP installations:\n",
    "- Locally installed MCP (in this case Freepik and DataForSEO)\n",
    "- Hosted MCP server (int his case Brave Search)"
   ]
  },
  {
   "cell_type": "code",
   "execution_count": 27,
   "id": "efe293d5",
   "metadata": {},
   "outputs": [],
   "source": [
    "from agno.tools.mcp import MultiMCPTools ## for MCP handling\n",
    "import asyncio ## for async calls to agent"
   ]
  },
  {
   "cell_type": "code",
   "execution_count": 28,
   "id": "d584b04a",
   "metadata": {},
   "outputs": [],
   "source": [
    "async def mcp_agent(message: str) -> None:\n",
    "    \"\"\"Run the Agent with given message\"\"\"\n",
    "\n",
    "    env = {\n",
    "        **os.environ,\n",
    "        'FREEPIK_API_KEY': os.getenv('FREEPIK_API_KEY'),\n",
    "        'DATAFORSEO_USERNAME': os.getenv('DATAFORSEO_USERNAME'),\n",
    "        'DATAFORSEO_PASSWORD': os.getenv('DATAFORSEO_PASSWORD'),\n",
    "        'BRAVE_API_KEY': os.getenv('BRAVE_API_KEY'),\n",
    "    } ## Configure API keys\n",
    "\n",
    "    ## CONNECT MCP\n",
    "    mcp_tools = MultiMCPTools(\n",
    "        commands=[\n",
    "            \"node D:/MCP/mcp-servers/freepik-mcp/build/index.js\",\n",
    "            \"node D:/MCP/mcp-server-typescript/build/main/main/index.js\",\n",
    "            \"npx -y @brave/brave-search-mcp-server\"\n",
    "        ],\n",
    "        env=env\n",
    "    )\n",
    "\n",
    "    await mcp_tools.connect()\n",
    "\n",
    "    try:\n",
    "        agent = Agent(\n",
    "            tools=[mcp_tools],\n",
    "            markdown=True,\n",
    "        )\n",
    "\n",
    "        await agent.aprint_response(message, stream=True)\n",
    "    \n",
    "    finally:\n",
    "        await mcp_tools.close()"
   ]
  },
  {
   "cell_type": "markdown",
   "id": "d8173324",
   "metadata": {},
   "source": [
    "Let's give it a try with different prompts to test the MCP servers"
   ]
  },
  {
   "cell_type": "code",
   "execution_count": 29,
   "id": "d3bc0de1",
   "metadata": {},
   "outputs": [],
   "source": [
    "prompt_freepik = \"Find me 3 free images of cute real ducks.\"\n",
    "prompt_dataforseo = \"Give me a short on page of this website: 'https://seongon.com'\"\n",
    "prompt_brave = \"what is the current scores between Real Madrid and Barcelona all time?\""
   ]
  },
  {
   "cell_type": "code",
   "execution_count": null,
   "id": "2bc1dd89",
   "metadata": {},
   "outputs": [],
   "source": [
    "## call the agent\n",
    "## ! IMPORTANT: CAN ONLY RUN CODE IN A PYTHON FILE, NOT A NOTEBOOK FILE\n",
    "\n",
    "if __name__ == \"__main__\":\n",
    "    asyncio.run(\n",
    "        mcp_agent(\n",
    "            \"What will be the next Portugal match?\"\n",
    "        )\n",
    "    )"
   ]
  }
 ],
 "metadata": {
  "kernelspec": {
   "display_name": "Python 3",
   "language": "python",
   "name": "python3"
  },
  "language_info": {
   "codemirror_mode": {
    "name": "ipython",
    "version": 3
   },
   "file_extension": ".py",
   "mimetype": "text/x-python",
   "name": "python",
   "nbconvert_exporter": "python",
   "pygments_lexer": "ipython3",
   "version": "3.13.3"
  }
 },
 "nbformat": 4,
 "nbformat_minor": 5
}